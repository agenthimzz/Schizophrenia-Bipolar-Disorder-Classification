{
 "cells": [
  {
   "cell_type": "markdown",
   "metadata": {},
   "source": [
    "# Prediction\n",
    "\n",
    "\n",
    "\n",
    "Now we are going directly to predict the model output on test_set.csv\n"
   ]
  },
  {
   "cell_type": "code",
   "execution_count": 1,
   "metadata": {},
   "outputs": [
    {
     "name": "stderr",
     "output_type": "stream",
     "text": [
      "/Users/himanshu.ghadigaonkar/anaconda3/lib/python3.6/site-packages/h5py/__init__.py:36: FutureWarning: Conversion of the second argument of issubdtype from `float` to `np.floating` is deprecated. In future, it will be treated as `np.float64 == np.dtype(float).type`.\n",
      "  from ._conv import register_converters as _register_converters\n",
      "Using TensorFlow backend.\n",
      "/Users/himanshu.ghadigaonkar/anaconda3/lib/python3.6/site-packages/tensorflow/python/framework/dtypes.py:493: FutureWarning: Passing (type, 1) or '1type' as a synonym of type is deprecated; in a future version of numpy, it will be understood as (type, (1,)) / '(1,)type'.\n",
      "  _np_qint8 = np.dtype([(\"qint8\", np.int8, 1)])\n",
      "/Users/himanshu.ghadigaonkar/anaconda3/lib/python3.6/site-packages/tensorflow/python/framework/dtypes.py:494: FutureWarning: Passing (type, 1) or '1type' as a synonym of type is deprecated; in a future version of numpy, it will be understood as (type, (1,)) / '(1,)type'.\n",
      "  _np_quint8 = np.dtype([(\"quint8\", np.uint8, 1)])\n",
      "/Users/himanshu.ghadigaonkar/anaconda3/lib/python3.6/site-packages/tensorflow/python/framework/dtypes.py:495: FutureWarning: Passing (type, 1) or '1type' as a synonym of type is deprecated; in a future version of numpy, it will be understood as (type, (1,)) / '(1,)type'.\n",
      "  _np_qint16 = np.dtype([(\"qint16\", np.int16, 1)])\n",
      "/Users/himanshu.ghadigaonkar/anaconda3/lib/python3.6/site-packages/tensorflow/python/framework/dtypes.py:496: FutureWarning: Passing (type, 1) or '1type' as a synonym of type is deprecated; in a future version of numpy, it will be understood as (type, (1,)) / '(1,)type'.\n",
      "  _np_quint16 = np.dtype([(\"quint16\", np.uint16, 1)])\n",
      "/Users/himanshu.ghadigaonkar/anaconda3/lib/python3.6/site-packages/tensorflow/python/framework/dtypes.py:497: FutureWarning: Passing (type, 1) or '1type' as a synonym of type is deprecated; in a future version of numpy, it will be understood as (type, (1,)) / '(1,)type'.\n",
      "  _np_qint32 = np.dtype([(\"qint32\", np.int32, 1)])\n",
      "/Users/himanshu.ghadigaonkar/anaconda3/lib/python3.6/site-packages/tensorflow/python/framework/dtypes.py:502: FutureWarning: Passing (type, 1) or '1type' as a synonym of type is deprecated; in a future version of numpy, it will be understood as (type, (1,)) / '(1,)type'.\n",
      "  np_resource = np.dtype([(\"resource\", np.ubyte, 1)])\n"
     ]
    }
   ],
   "source": [
    "from sklearn.preprocessing import MinMaxScaler, minmax_scale\n",
    "\n",
    "from keras.models import Model\n",
    "from keras.models import model_from_json\n",
    "\n",
    "import pandas as pd\n",
    "import numpy as np\n",
    "\n",
    "import matplotlib.pyplot as plt\n",
    "import seaborn as sns\n",
    "\n",
    "import pickle"
   ]
  },
  {
   "cell_type": "code",
   "execution_count": 2,
   "metadata": {},
   "outputs": [],
   "source": [
    "df = pd.read_csv('test_set.csv')"
   ]
  },
  {
   "cell_type": "code",
   "execution_count": 3,
   "metadata": {},
   "outputs": [],
   "source": [
    "y = df['diag_Code']\n",
    "X = df.drop('diag_Code', axis = 1)"
   ]
  },
  {
   "cell_type": "code",
   "execution_count": 57,
   "metadata": {},
   "outputs": [
    {
     "name": "stdout",
     "output_type": "stream",
     "text": [
      "Loaded model from disk\n",
      "_________________________________________________________________\n",
      "Layer (type)                 Output Shape              Param #   \n",
      "=================================================================\n",
      "input_19 (InputLayer)        (None, 2390)              0         \n",
      "_________________________________________________________________\n",
      "dense_113 (Dense)            (None, 2000)              4782000   \n",
      "_________________________________________________________________\n",
      "dense_114 (Dense)            (None, 1500)              3001500   \n",
      "_________________________________________________________________\n",
      "dense_115 (Dense)            (None, 1000)              1501000   \n",
      "_________________________________________________________________\n",
      "dropout_33 (Dropout)         (None, 1000)              0         \n",
      "_________________________________________________________________\n",
      "dense_116 (Dense)            (None, 500)               500500    \n",
      "_________________________________________________________________\n",
      "dropout_34 (Dropout)         (None, 500)               0         \n",
      "_________________________________________________________________\n",
      "dense_117 (Dense)            (None, 100)               50100     \n",
      "_________________________________________________________________\n",
      "dense_118 (Dense)            (None, 50)                5050      \n",
      "_________________________________________________________________\n",
      "dense_119 (Dense)            (None, 10)                510       \n",
      "_________________________________________________________________\n",
      "dense_120 (Dense)            (None, 50)                550       \n",
      "_________________________________________________________________\n",
      "dense_121 (Dense)            (None, 100)               5100      \n",
      "_________________________________________________________________\n",
      "dropout_35 (Dropout)         (None, 100)               0         \n",
      "_________________________________________________________________\n",
      "dense_122 (Dense)            (None, 500)               50500     \n",
      "_________________________________________________________________\n",
      "dropout_36 (Dropout)         (None, 500)               0         \n",
      "_________________________________________________________________\n",
      "dense_123 (Dense)            (None, 1000)              501000    \n",
      "_________________________________________________________________\n",
      "dense_124 (Dense)            (None, 1500)              1501500   \n",
      "_________________________________________________________________\n",
      "dense_125 (Dense)            (None, 2000)              3002000   \n",
      "_________________________________________________________________\n",
      "dense_126 (Dense)            (None, 2390)              4782390   \n",
      "=================================================================\n",
      "Total params: 19,683,700\n",
      "Trainable params: 19,683,700\n",
      "Non-trainable params: 0\n",
      "_________________________________________________________________\n",
      "None\n"
     ]
    }
   ],
   "source": [
    "# load json and create model\n",
    "json_file = open('model_final.json', 'r')\n",
    "loaded_model_json = json_file.read()\n",
    "json_file.close()\n",
    "autoencoder = model_from_json(loaded_model_json)\n",
    "# load weights into new model\n",
    "autoencoder.load_weights(\"model_final.h5\")\n",
    "print(\"Loaded model from disk\")\n",
    "\n",
    "autoencoder.compile(optimizer = 'adadelta', loss = 'binary_crossentropy', metrics=['accuracy'])\n",
    "\n",
    "print(autoencoder.summary())"
   ]
  },
  {
   "cell_type": "code",
   "execution_count": 58,
   "metadata": {},
   "outputs": [
    {
     "name": "stdout",
     "output_type": "stream",
     "text": [
      "_________________________________________________________________\n",
      "Layer (type)                 Output Shape              Param #   \n",
      "=================================================================\n",
      "input_19 (InputLayer)        (None, 2390)              0         \n",
      "_________________________________________________________________\n",
      "dense_113 (Dense)            (None, 2000)              4782000   \n",
      "_________________________________________________________________\n",
      "dense_114 (Dense)            (None, 1500)              3001500   \n",
      "_________________________________________________________________\n",
      "dense_115 (Dense)            (None, 1000)              1501000   \n",
      "_________________________________________________________________\n",
      "dropout_33 (Dropout)         (None, 1000)              0         \n",
      "_________________________________________________________________\n",
      "dense_116 (Dense)            (None, 500)               500500    \n",
      "_________________________________________________________________\n",
      "dropout_34 (Dropout)         (None, 500)               0         \n",
      "_________________________________________________________________\n",
      "dense_117 (Dense)            (None, 100)               50100     \n",
      "_________________________________________________________________\n",
      "dense_118 (Dense)            (None, 50)                5050      \n",
      "_________________________________________________________________\n",
      "dense_119 (Dense)            (None, 10)                510       \n",
      "=================================================================\n",
      "Total params: 19,683,700\n",
      "Trainable params: 19,683,700\n",
      "Non-trainable params: 0\n",
      "_________________________________________________________________\n"
     ]
    },
    {
     "name": "stderr",
     "output_type": "stream",
     "text": [
      "/Users/himanshu.ghadigaonkar/anaconda3/lib/python3.6/site-packages/keras/engine/training.py:490: UserWarning: Discrepancy between trainable weights and collected trainable weights, did you set `model.trainable` without calling `model.compile` after ?\n",
      "  'Discrepancy between trainable weights and collected trainable'\n"
     ]
    }
   ],
   "source": [
    "autoencoder.layers.pop()\n",
    "autoencoder.layers.pop()\n",
    "autoencoder.layers.pop()\n",
    "autoencoder.layers.pop()\n",
    "autoencoder.layers.pop()\n",
    "autoencoder.layers.pop()\n",
    "autoencoder.layers.pop()\n",
    "autoencoder.layers.pop()\n",
    "autoencoder.layers.pop()\n",
    "autoencoder.summary()"
   ]
  },
  {
   "cell_type": "code",
   "execution_count": 84,
   "metadata": {},
   "outputs": [
    {
     "data": {
      "text/plain": [
       "<tf.Tensor 'dense_119_4/Tanh:0' shape=(?, 10) dtype=float32>"
      ]
     },
     "execution_count": 84,
     "metadata": {},
     "output_type": "execute_result"
    }
   ],
   "source": [
    "autoencoder.layers[-1].output"
   ]
  },
  {
   "cell_type": "code",
   "execution_count": 60,
   "metadata": {},
   "outputs": [],
   "source": [
    "autoencoder.compile(optimizer = 'adadelta', loss = 'binary_crossentropy')"
   ]
  },
  {
   "cell_type": "code",
   "execution_count": 77,
   "metadata": {},
   "outputs": [
    {
     "data": {
      "text/plain": [
       "(44, 2390)"
      ]
     },
     "execution_count": 77,
     "metadata": {},
     "output_type": "execute_result"
    }
   ],
   "source": [
    "X_test_scaled = minmax_scale(X, feature_range=(-1,1), axis=1)\n",
    "X_test_scaled.shape"
   ]
  },
  {
   "cell_type": "code",
   "execution_count": 78,
   "metadata": {},
   "outputs": [
    {
     "data": {
      "text/html": [
       "<div>\n",
       "<style scoped>\n",
       "    .dataframe tbody tr th:only-of-type {\n",
       "        vertical-align: middle;\n",
       "    }\n",
       "\n",
       "    .dataframe tbody tr th {\n",
       "        vertical-align: top;\n",
       "    }\n",
       "\n",
       "    .dataframe thead th {\n",
       "        text-align: right;\n",
       "    }\n",
       "</style>\n",
       "<table border=\"1\" class=\"dataframe\">\n",
       "  <thead>\n",
       "    <tr style=\"text-align: right;\">\n",
       "      <th></th>\n",
       "      <th>feature_0</th>\n",
       "      <th>feature_1</th>\n",
       "      <th>feature_2</th>\n",
       "      <th>feature_3</th>\n",
       "      <th>feature_4</th>\n",
       "      <th>feature_5</th>\n",
       "      <th>feature_6</th>\n",
       "      <th>feature_7</th>\n",
       "      <th>feature_8</th>\n",
       "      <th>feature_9</th>\n",
       "    </tr>\n",
       "  </thead>\n",
       "  <tbody>\n",
       "    <tr>\n",
       "      <th>0</th>\n",
       "      <td>0.991390</td>\n",
       "      <td>0.860200</td>\n",
       "      <td>0.758664</td>\n",
       "      <td>-0.767006</td>\n",
       "      <td>0.998014</td>\n",
       "      <td>-0.985883</td>\n",
       "      <td>0.842945</td>\n",
       "      <td>-0.961233</td>\n",
       "      <td>0.541392</td>\n",
       "      <td>-0.767559</td>\n",
       "    </tr>\n",
       "    <tr>\n",
       "      <th>1</th>\n",
       "      <td>-0.993247</td>\n",
       "      <td>-0.824117</td>\n",
       "      <td>-0.780591</td>\n",
       "      <td>0.834246</td>\n",
       "      <td>-0.997852</td>\n",
       "      <td>0.986275</td>\n",
       "      <td>-0.823075</td>\n",
       "      <td>0.970200</td>\n",
       "      <td>-0.513049</td>\n",
       "      <td>0.746768</td>\n",
       "    </tr>\n",
       "    <tr>\n",
       "      <th>2</th>\n",
       "      <td>-0.993117</td>\n",
       "      <td>-0.826937</td>\n",
       "      <td>-0.790040</td>\n",
       "      <td>0.828655</td>\n",
       "      <td>-0.997939</td>\n",
       "      <td>0.986612</td>\n",
       "      <td>-0.817240</td>\n",
       "      <td>0.969998</td>\n",
       "      <td>-0.552925</td>\n",
       "      <td>0.731219</td>\n",
       "    </tr>\n",
       "    <tr>\n",
       "      <th>3</th>\n",
       "      <td>-0.993526</td>\n",
       "      <td>-0.826755</td>\n",
       "      <td>-0.787673</td>\n",
       "      <td>0.836196</td>\n",
       "      <td>-0.997730</td>\n",
       "      <td>0.986663</td>\n",
       "      <td>-0.824404</td>\n",
       "      <td>0.970830</td>\n",
       "      <td>-0.506849</td>\n",
       "      <td>0.736907</td>\n",
       "    </tr>\n",
       "    <tr>\n",
       "      <th>4</th>\n",
       "      <td>-0.992847</td>\n",
       "      <td>-0.828603</td>\n",
       "      <td>-0.782625</td>\n",
       "      <td>0.823207</td>\n",
       "      <td>-0.998024</td>\n",
       "      <td>0.986156</td>\n",
       "      <td>-0.825994</td>\n",
       "      <td>0.969659</td>\n",
       "      <td>-0.534607</td>\n",
       "      <td>0.755713</td>\n",
       "    </tr>\n",
       "    <tr>\n",
       "      <th>5</th>\n",
       "      <td>-0.993101</td>\n",
       "      <td>-0.832143</td>\n",
       "      <td>-0.771430</td>\n",
       "      <td>0.823526</td>\n",
       "      <td>-0.997893</td>\n",
       "      <td>0.986211</td>\n",
       "      <td>-0.816972</td>\n",
       "      <td>0.968511</td>\n",
       "      <td>-0.513371</td>\n",
       "      <td>0.736804</td>\n",
       "    </tr>\n",
       "    <tr>\n",
       "      <th>6</th>\n",
       "      <td>-0.993626</td>\n",
       "      <td>-0.842407</td>\n",
       "      <td>-0.831790</td>\n",
       "      <td>0.846432</td>\n",
       "      <td>-0.997489</td>\n",
       "      <td>0.986856</td>\n",
       "      <td>-0.840588</td>\n",
       "      <td>0.965518</td>\n",
       "      <td>-0.582412</td>\n",
       "      <td>0.701383</td>\n",
       "    </tr>\n",
       "    <tr>\n",
       "      <th>7</th>\n",
       "      <td>-0.993494</td>\n",
       "      <td>-0.841239</td>\n",
       "      <td>-0.821460</td>\n",
       "      <td>0.830082</td>\n",
       "      <td>-0.997597</td>\n",
       "      <td>0.987071</td>\n",
       "      <td>-0.831585</td>\n",
       "      <td>0.965365</td>\n",
       "      <td>-0.547448</td>\n",
       "      <td>0.717965</td>\n",
       "    </tr>\n",
       "    <tr>\n",
       "      <th>8</th>\n",
       "      <td>-0.993057</td>\n",
       "      <td>-0.828618</td>\n",
       "      <td>-0.788149</td>\n",
       "      <td>0.834945</td>\n",
       "      <td>-0.997933</td>\n",
       "      <td>0.986195</td>\n",
       "      <td>-0.827973</td>\n",
       "      <td>0.970089</td>\n",
       "      <td>-0.531995</td>\n",
       "      <td>0.745591</td>\n",
       "    </tr>\n",
       "    <tr>\n",
       "      <th>9</th>\n",
       "      <td>-0.990860</td>\n",
       "      <td>-0.795529</td>\n",
       "      <td>-0.804770</td>\n",
       "      <td>0.863011</td>\n",
       "      <td>-0.998831</td>\n",
       "      <td>0.981893</td>\n",
       "      <td>-0.791473</td>\n",
       "      <td>0.963104</td>\n",
       "      <td>-0.714118</td>\n",
       "      <td>0.656817</td>\n",
       "    </tr>\n",
       "  </tbody>\n",
       "</table>\n",
       "</div>"
      ],
      "text/plain": [
       "   feature_0  feature_1  feature_2  feature_3  feature_4  feature_5  \\\n",
       "0   0.991390   0.860200   0.758664  -0.767006   0.998014  -0.985883   \n",
       "1  -0.993247  -0.824117  -0.780591   0.834246  -0.997852   0.986275   \n",
       "2  -0.993117  -0.826937  -0.790040   0.828655  -0.997939   0.986612   \n",
       "3  -0.993526  -0.826755  -0.787673   0.836196  -0.997730   0.986663   \n",
       "4  -0.992847  -0.828603  -0.782625   0.823207  -0.998024   0.986156   \n",
       "5  -0.993101  -0.832143  -0.771430   0.823526  -0.997893   0.986211   \n",
       "6  -0.993626  -0.842407  -0.831790   0.846432  -0.997489   0.986856   \n",
       "7  -0.993494  -0.841239  -0.821460   0.830082  -0.997597   0.987071   \n",
       "8  -0.993057  -0.828618  -0.788149   0.834945  -0.997933   0.986195   \n",
       "9  -0.990860  -0.795529  -0.804770   0.863011  -0.998831   0.981893   \n",
       "\n",
       "   feature_6  feature_7  feature_8  feature_9  \n",
       "0   0.842945  -0.961233   0.541392  -0.767559  \n",
       "1  -0.823075   0.970200  -0.513049   0.746768  \n",
       "2  -0.817240   0.969998  -0.552925   0.731219  \n",
       "3  -0.824404   0.970830  -0.506849   0.736907  \n",
       "4  -0.825994   0.969659  -0.534607   0.755713  \n",
       "5  -0.816972   0.968511  -0.513371   0.736804  \n",
       "6  -0.840588   0.965518  -0.582412   0.701383  \n",
       "7  -0.831585   0.965365  -0.547448   0.717965  \n",
       "8  -0.827973   0.970089  -0.531995   0.745591  \n",
       "9  -0.791473   0.963104  -0.714118   0.656817  "
      ]
     },
     "execution_count": 78,
     "metadata": {},
     "output_type": "execute_result"
    }
   ],
   "source": [
    "### Define the encoder dimension\n",
    "encoding_dim = 10\n",
    "\n",
    "\n",
    "encoder = Model(inputs = autoencoder.layers[0].input, outputs= autoencoder.layers[10].output)\n",
    "encoded_input = Input(shape = (encoding_dim, ))\n",
    "\n",
    "\n",
    "encoded_test = pd.DataFrame(encoder.predict(X_test_scaled))\n",
    "encoded_test = encoded_test.add_prefix('feature_')\n",
    "\n",
    "encoded_test.head(10)"
   ]
  },
  {
   "cell_type": "code",
   "execution_count": 85,
   "metadata": {},
   "outputs": [],
   "source": [
    "# load the model from disk\n",
    "knn_model = pickle.load(open('knnpickle_file', 'rb'))\n",
    "y_hat = knn_model.predict(encoded_test) \n",
    "y_test = y"
   ]
  },
  {
   "cell_type": "code",
   "execution_count": 87,
   "metadata": {},
   "outputs": [],
   "source": [
    "def print_confusion_matrix(confusion_matrix, class_names, figsize = (10,7), fontsize=14):\n",
    "    \"\"\"Prints a confusion matrix, as returned by sklearn.metrics.confusion_matrix, as a heatmap.\n",
    "    \n",
    "    Arguments\n",
    "    ---------\n",
    "    confusion_matrix: numpy.ndarray\n",
    "        The numpy.ndarray object returned from a call to sklearn.metrics.confusion_matrix. \n",
    "        Similarly constructed ndarrays can also be used.\n",
    "    class_names: list\n",
    "        An ordered list of class names, in the order they index the given confusion matrix.\n",
    "    figsize: tuple\n",
    "        A 2-long tuple, the first value determining the horizontal size of the ouputted figure,\n",
    "        the second determining the vertical size. Defaults to (10,7).\n",
    "    fontsize: int\n",
    "        Font size for axes labels. Defaults to 14.\n",
    "        \n",
    "    Returns\n",
    "    -------\n",
    "    matplotlib.figure.Figure\n",
    "        The resulting confusion matrix figure\n",
    "    \"\"\"\n",
    "    df_cm = pd.DataFrame(\n",
    "        confusion_matrix, index=class_names, columns=class_names, \n",
    "    )\n",
    "    fig = plt.figure(figsize=figsize)\n",
    "    try:\n",
    "        heatmap = sns.heatmap(df_cm, annot=True, fmt=\"d\")\n",
    "    except ValueError:\n",
    "        raise ValueError(\"Confusion matrix values must be integers.\")\n",
    "    heatmap.yaxis.set_ticklabels(heatmap.yaxis.get_ticklabels(), rotation=0, ha='right', fontsize=fontsize)\n",
    "    heatmap.xaxis.set_ticklabels(heatmap.xaxis.get_ticklabels(), rotation=45, ha='right', fontsize=fontsize)\n",
    "    plt.ylabel('True label')\n",
    "    plt.xlabel('Predicted label')\n",
    "    return fig\n",
    "\n"
   ]
  },
  {
   "cell_type": "code",
   "execution_count": 88,
   "metadata": {},
   "outputs": [
    {
     "data": {
      "image/png": "[encoded data removed]",
      "text/plain": [
       "<Figure size 720x504 with 2 Axes>"
      ]
     },
     "execution_count": 88,
     "metadata": {},
     "output_type": "execute_result"
    },
    {
     "data": {
      "image/png": "[encoded data removed]",
      "text/plain": [
       "<Figure size 720x504 with 2 Axes>"
      ]
     },
     "metadata": {},
     "output_type": "display_data"
    }
   ],
   "source": [
    "from sklearn.metrics import confusion_matrix\n",
    "c = confusion_matrix(y_test, y_hat)\n",
    "names = ['Schizophrenia','Bipolar Disorder']\n",
    "print_confusion_matrix(c,names)"
   ]
  },
  {
   "cell_type": "code",
   "execution_count": 89,
   "metadata": {},
   "outputs": [
    {
     "name": "stdout",
     "output_type": "stream",
     "text": [
      "                  precision    recall  f1-score   support\n",
      "\n",
      "   Schizophrenia       0.83      0.43      0.57        23\n",
      "Bipolar Disorder       0.59      0.90      0.72        21\n",
      "\n",
      "       micro avg       0.66      0.66      0.66        44\n",
      "       macro avg       0.71      0.67      0.64        44\n",
      "    weighted avg       0.72      0.66      0.64        44\n",
      "\n",
      "Accuracy Score:  0.6590909090909091\n"
     ]
    }
   ],
   "source": [
    "from sklearn.metrics import r2_score,classification_report, accuracy_score, roc_curve, roc_auc_score, auc\n",
    "print(classification_report(y_test, y_hat, target_names=names))\n",
    "print('Accuracy Score: ',accuracy_score(y_test, y_hat))"
   ]
  },
  {
   "cell_type": "code",
   "execution_count": 90,
   "metadata": {},
   "outputs": [
    {
     "data": {
      "image/png": "[encoded data removed]",
      "text/plain": [
       "<Figure size 432x288 with 1 Axes>"
      ]
     },
     "metadata": {},
     "output_type": "display_data"
    }
   ],
   "source": [
    "#plt.figure(figsize=(10,10))\n",
    "\n",
    "fpr, tpr, _ = roc_curve(y_test, y_hat, pos_label=1)\n",
    "roc_auc = auc(fpr, tpr)\n",
    "\n",
    "lw = 2\n",
    "plt.plot(fpr, tpr, color='darkorange',\n",
    "         lw=lw, label='ROC curve (area = %0.2f)' % roc_auc)\n",
    "plt.plot([0, 1], [0, 1], color='navy', lw=lw, linestyle='--')\n",
    "plt.xlabel('False Positive Rate')\n",
    "plt.ylabel('True Positive Rate')\n",
    "plt.title('Receiver operating characteristic for Run')\n",
    "plt.legend(loc=\"lower right\")\n",
    "\n",
    "\n",
    "plt.show()\n",
    "\n"
   ]
  },
  {
   "cell_type": "code",
   "execution_count": null,
   "metadata": {},
   "outputs": [],
   "source": []
  }
 ],
 "metadata": {
  "kernelspec": {
   "display_name": "Python 3",
   "language": "python",
   "name": "python3"
  },
  "language_info": {
   "codemirror_mode": {
    "name": "ipython",
    "version": 3
   },
   "file_extension": ".py",
   "mimetype": "text/x-python",
   "name": "python",
   "nbconvert_exporter": "python",
   "pygments_lexer": "ipython3",
   "version": "3.6.5"
  }
 },
 "nbformat": 4,
 "nbformat_minor": 2
}
